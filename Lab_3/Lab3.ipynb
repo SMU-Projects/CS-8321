{
 "cells": [
  {
   "cell_type": "code",
   "execution_count": null,
   "metadata": {},
   "outputs": [],
   "source": [
    "\n",
    "import numpy as np\n",
    "\n",
    "f = open('data.csv', 'r', encoding=\"ISO-8859-1\")\n",
    "lines = f.readlines()\n",
    "f.close()\n",
    "\n",
    "\n",
    "flis = [] # will have [id, ic50_val, unit, target, smiles] \n",
    "\n",
    "for line in lines[1:]: # first line contains the headers (therefore skiped)\n",
    "    lis = line.strip().split(',')\n",
    "\n",
    "    if len(lis) < 36:\n",
    "        continue\n",
    "    \n",
    "    \n",
    "    #print (lis[0], lis[3], lis[8], lis[36])\n",
    "    # [id, ic50_val, unit, target, smiles]\n",
    "\n",
    "    flis.append([lis[0], lis[3], lis[4], lis[8], lis[36]])\n",
    "    #break\n",
    "\n",
    "# I have no idea why python adds \\x00 to each string\n",
    "# Therefoe I removed it\n",
    "\n",
    "for i in range (len(flis)):\n",
    "    flis[i] = [j.replace('\\x00','') for j in flis[i]]\n",
    "    flis[i] = [j.replace('\"','') for j in flis[i]]\n",
    "\n",
    "# Some of the data have smiles or IC50 missing\n",
    "# So I removed them as well\n",
    "list = []\n",
    "for i in flis:\n",
    "    if len(i[1]) != 0 and len(i[-1]) != 0:\n",
    "        #print (i)\n",
    "        list.append(i)\n",
    "\n",
    "X, t, y = [], [], []\n",
    "for i in list:\n",
    "    if i[2] == 'nM':\n",
    "        if len(i[-1]) == 0 or len(i[-2]) ==0 or len(i[1]) ==0:\n",
    "            print ('Thers a problem !!')\n",
    "        X.append(i[-1])\n",
    "        t.append(i[-2])\n",
    "        y.append(i[1])\n",
    "\n",
    "# smiles is the string representation of each ligand\n",
    "# target is the protein where ligand binds (treat it as different schools)\n",
    "# ic50 is the score\n",
    "np.save('data.npy', {'smiles':X, 'target':t, 'ic50':y})\n"
   ]
  }
 ],
 "metadata": {
  "kernelspec": {
   "display_name": "Python 3",
   "language": "python",
   "name": "python3"
  },
  "language_info": {
   "codemirror_mode": {
    "name": "ipython",
    "version": 3
   },
   "file_extension": ".py",
   "mimetype": "text/x-python",
   "name": "python",
   "nbconvert_exporter": "python",
   "pygments_lexer": "ipython3",
   "version": "3.7.6"
  }
 },
 "nbformat": 4,
 "nbformat_minor": 4
}
