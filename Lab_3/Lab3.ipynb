{
 "cells": [
  {
   "cell_type": "markdown",
   "metadata": {},
   "source": [
    "# Lab Three: Multi-modal and Multi-task"
   ]
  },
  {
   "cell_type": "markdown",
   "metadata": {},
   "source": [
    "#### CS8321: Neural Networks and Machine Learning\n",
    "    \n",
    "Johnathan Barr - 39854013\n",
    "<br>\n",
    "Will Lacey - 45906124"
   ]
  },
  {
   "cell_type": "markdown",
   "metadata": {},
   "source": [
    "## Lab Description\n",
    "<em>In this lab, you will implement a multi-task network (possibly multi-modal) that classifies interactions between compounds/ ligands with proteins in the ChEMBL database (https://www.ebi.ac.uk/chembl/). The objective is to classify which ligands bind to which targets. Each target will be a separate task working from a  shared ligand representation. </em>"
   ]
  },
  {
   "cell_type": "markdown",
   "metadata": {},
   "source": [
    "## Import Modules and Initialization\n",
    "\n",
    "Before we begin, let's import essential packages for data analysis."
   ]
  },
  {
   "cell_type": "code",
   "execution_count": 2,
   "metadata": {},
   "outputs": [],
   "source": [
    "from keras.layers import Input, Dense\n",
    "from keras.models import Model\n",
    "\n",
    "import matplotlib.pyplot as plt\n",
    "\n",
    "import numpy as np\n",
    "\n",
    "import pandas as pd\n",
    "\n",
    "import rdkit\n",
    "from rdkit import ML\n",
    "from rdkit.ML import Scoring\n",
    "from rdkit.ML.Scoring import Scoring\n",
    "from rdkit import Chem\n",
    "\n",
    "import seaborn as sns\n",
    "\n",
    "from random import shuffle\n",
    "\n",
    "import sklearn\n",
    "from sklearn.datasets.base import Bunch\n",
    "from sklearn.model_selection import train_test_split\n",
    "from sklearn.metrics import mean_squared_error, accuracy_score \n",
    "from sklearn.metrics import precision_score, mean_squared_log_error\n",
    "\n",
    "import warnings\n",
    "warnings.simplefilter('ignore')"
   ]
  },
  {
   "cell_type": "markdown",
   "metadata": {},
   "source": [
    "## Downloading the ChEMBL Dataset"
   ]
  },
  {
   "cell_type": "markdown",
   "metadata": {},
   "source": [
    "<em>[<strong>10 points</strong>] Download the ChEMBL database or setup queries to download a subset of the database. An already processed version of the dataset is available here (thanks to Niraj Verma): https://smu.box.com/s/smqmwlef0yehpieicwxqdr99k7f9ru04</em>"
   ]
  },
  {
   "cell_type": "markdown",
   "metadata": {},
   "source": [
    "We decided to opt for the preprocessed version of the dataset provided by Niraj Verma. The following cell has been adapted from the SMU box link, which will parse through the dataset as a .csv file and save the information to a numpy cache file."
   ]
  },
  {
   "cell_type": "code",
   "execution_count": 3,
   "metadata": {},
   "outputs": [],
   "source": [
    "# export data as .npy\n",
    "f = open('data/data.csv', 'r', encoding=\"ISO-8859-1\")\n",
    "lines = f.readlines()\n",
    "f.close()\n",
    "\n",
    "flis = [] # will have [id, ic50_val, unit, target, smiles] \n",
    "\n",
    "for line in lines[1:]: # first line contains the headers (therefore skiped)\n",
    "    lis = line.strip().split(',')\n",
    "\n",
    "    if len(lis) < 36:\n",
    "        continue\n",
    "    \n",
    "    \n",
    "    #print (lis[0], lis[3], lis[8], lis[36])\n",
    "    # [id, ic50_val, unit, target, smiles]\n",
    "\n",
    "    flis.append([lis[0], lis[3], lis[4], lis[8], lis[36]])\n",
    "    #break\n",
    "\n",
    "# I have no idea why python adds \\x00 to each string\n",
    "# Therefoe I removed it\n",
    "\n",
    "for i in range (len(flis)):\n",
    "    flis[i] = [j.replace('\\x00','') for j in flis[i]]\n",
    "    flis[i] = [j.replace('\"','') for j in flis[i]]\n",
    "\n",
    "# Some of the data have smiles or IC50 missing\n",
    "# So I removed them as well\n",
    "list = []\n",
    "for i in flis:\n",
    "    if len(i[1]) != 0 and len(i[-1]) != 0:\n",
    "        #print (i)\n",
    "        list.append(i)\n",
    "\n",
    "X, t, y = [], [], []\n",
    "for i in list:\n",
    "    if i[2] == 'nM':\n",
    "        if len(i[-1]) == 0 or len(i[-2]) ==0 or len(i[1]) ==0:\n",
    "            print ('Thers a problem !!')\n",
    "        X.append(i[-1])\n",
    "        t.append(i[-2])\n",
    "        y.append(i[1])\n",
    "\n",
    "# smiles is the string representation of each ligand\n",
    "# target is the protein where ligand binds (treat it as different schools)\n",
    "# ic50 is the score\n",
    "np.save('data/data.npy', {'smiles':X, 'target':t, 'ic50':y})"
   ]
  },
  {
   "cell_type": "markdown",
   "metadata": {},
   "source": [
    "After running the previous cell, we then load the cached data. This is so we can save time when we boot up this notebook in the future. "
   ]
  },
  {
   "cell_type": "code",
   "execution_count": 4,
   "metadata": {},
   "outputs": [],
   "source": [
    "data = np.load('data/data.npy', allow_pickle=True)"
   ]
  },
  {
   "cell_type": "markdown",
   "metadata": {},
   "source": [
    "Okay! Let's get to it!\n",
    "\n",
    "We're first going to convert the data to a pandas DataFrame object. This will help us tinker with the data as we go on. "
   ]
  },
  {
   "cell_type": "code",
   "execution_count": 5,
   "metadata": {},
   "outputs": [
    {
     "data": {
      "text/html": [
       "<div>\n",
       "<style scoped>\n",
       "    .dataframe tbody tr th:only-of-type {\n",
       "        vertical-align: middle;\n",
       "    }\n",
       "\n",
       "    .dataframe tbody tr th {\n",
       "        vertical-align: top;\n",
       "    }\n",
       "\n",
       "    .dataframe thead th {\n",
       "        text-align: right;\n",
       "    }\n",
       "</style>\n",
       "<table border=\"1\" class=\"dataframe\">\n",
       "  <thead>\n",
       "    <tr style=\"text-align: right;\">\n",
       "      <th></th>\n",
       "      <th>smiles</th>\n",
       "      <th>target</th>\n",
       "      <th>ic50</th>\n",
       "    </tr>\n",
       "  </thead>\n",
       "  <tbody>\n",
       "    <tr>\n",
       "      <th>0</th>\n",
       "      <td>Nc1nc(N)c2c(CSc3ccc(Cl)c(Cl)c3)c[nH]c2n1</td>\n",
       "      <td>CHEMBL664913</td>\n",
       "      <td>11600</td>\n",
       "    </tr>\n",
       "    <tr>\n",
       "      <th>1</th>\n",
       "      <td>NC(=S)\\N=N\\c1c(O)[nH]c2ccc(I)cc12</td>\n",
       "      <td>CHEMBL812106</td>\n",
       "      <td>9000</td>\n",
       "    </tr>\n",
       "    <tr>\n",
       "      <th>2</th>\n",
       "      <td>[Cl-].C[N+](C)(CCCN1c2ccccc2Sc3ccc(Cl)cc13)Cc4...</td>\n",
       "      <td>CHEMBL811877</td>\n",
       "      <td>17900</td>\n",
       "    </tr>\n",
       "    <tr>\n",
       "      <th>3</th>\n",
       "      <td>COc1cc(OC)cc(c1)N(C)Cc2c[nH]c3nc(N)nc(O)c23</td>\n",
       "      <td>CHEMBL664920</td>\n",
       "      <td>4200</td>\n",
       "    </tr>\n",
       "    <tr>\n",
       "      <th>4</th>\n",
       "      <td>COc1cc(Cc2cnc(N)nc2N)cc(OC)c1OC</td>\n",
       "      <td>CHEMBL664913</td>\n",
       "      <td>2700</td>\n",
       "    </tr>\n",
       "    <tr>\n",
       "      <th>...</th>\n",
       "      <td>...</td>\n",
       "      <td>...</td>\n",
       "      <td>...</td>\n",
       "    </tr>\n",
       "    <tr>\n",
       "      <th>747912</th>\n",
       "      <td>Cn1cc(cn1)S(=O)(=O)N2CCC3=Cc4c(C[C@@]3(C2)C(=O...</td>\n",
       "      <td>CHEMBL4051182</td>\n",
       "      <td>210</td>\n",
       "    </tr>\n",
       "    <tr>\n",
       "      <th>747913</th>\n",
       "      <td>CN(C)CCCNc1cc(ncn1)C2(CC2)C(=O)Nc3cc(ccc3C)C(=...</td>\n",
       "      <td>CHEMBL4050074</td>\n",
       "      <td>33.8</td>\n",
       "    </tr>\n",
       "    <tr>\n",
       "      <th>747914</th>\n",
       "      <td>CN1CCN(Cc2ccc(NC(=O)c3n[nH]cc3Nc4ncnc5sc(C)cc4...</td>\n",
       "      <td>CHEMBL4059187</td>\n",
       "      <td>0.384</td>\n",
       "    </tr>\n",
       "    <tr>\n",
       "      <th>747915</th>\n",
       "      <td>CN1CCN(Cc2ccc(NC(=O)c3n[nH]cc3Nc4ncnc5[nH]ccc4...</td>\n",
       "      <td>CHEMBL4059187</td>\n",
       "      <td>0.27</td>\n",
       "    </tr>\n",
       "    <tr>\n",
       "      <th>747916</th>\n",
       "      <td>C(CCN(C[C@H]1Cc2ccccc2CN1)[C@H]3CCCc4cccnc34)C...</td>\n",
       "      <td>CHEMBL4059170</td>\n",
       "      <td>2720</td>\n",
       "    </tr>\n",
       "  </tbody>\n",
       "</table>\n",
       "<p>747917 rows × 3 columns</p>\n",
       "</div>"
      ],
      "text/plain": [
       "                                                   smiles         target  \\\n",
       "0                Nc1nc(N)c2c(CSc3ccc(Cl)c(Cl)c3)c[nH]c2n1   CHEMBL664913   \n",
       "1                       NC(=S)\\N=N\\c1c(O)[nH]c2ccc(I)cc12   CHEMBL812106   \n",
       "2       [Cl-].C[N+](C)(CCCN1c2ccccc2Sc3ccc(Cl)cc13)Cc4...   CHEMBL811877   \n",
       "3             COc1cc(OC)cc(c1)N(C)Cc2c[nH]c3nc(N)nc(O)c23   CHEMBL664920   \n",
       "4                         COc1cc(Cc2cnc(N)nc2N)cc(OC)c1OC   CHEMBL664913   \n",
       "...                                                   ...            ...   \n",
       "747912  Cn1cc(cn1)S(=O)(=O)N2CCC3=Cc4c(C[C@@]3(C2)C(=O...  CHEMBL4051182   \n",
       "747913  CN(C)CCCNc1cc(ncn1)C2(CC2)C(=O)Nc3cc(ccc3C)C(=...  CHEMBL4050074   \n",
       "747914  CN1CCN(Cc2ccc(NC(=O)c3n[nH]cc3Nc4ncnc5sc(C)cc4...  CHEMBL4059187   \n",
       "747915  CN1CCN(Cc2ccc(NC(=O)c3n[nH]cc3Nc4ncnc5[nH]ccc4...  CHEMBL4059187   \n",
       "747916  C(CCN(C[C@H]1Cc2ccccc2CN1)[C@H]3CCCc4cccnc34)C...  CHEMBL4059170   \n",
       "\n",
       "         ic50  \n",
       "0       11600  \n",
       "1        9000  \n",
       "2       17900  \n",
       "3        4200  \n",
       "4        2700  \n",
       "...       ...  \n",
       "747912    210  \n",
       "747913   33.8  \n",
       "747914  0.384  \n",
       "747915   0.27  \n",
       "747916   2720  \n",
       "\n",
       "[747917 rows x 3 columns]"
      ]
     },
     "execution_count": 5,
     "metadata": {},
     "output_type": "execute_result"
    }
   ],
   "source": [
    "df = pd.DataFrame(data.tolist())\n",
    "df"
   ]
  },
  {
   "cell_type": "markdown",
   "metadata": {},
   "source": [
    "Let's also check out some of the cool functionality of RDKit and view a random molecule. This will be done by grabbing the molecule's smiles and converting it into a molecular representation."
   ]
  },
  {
   "cell_type": "code",
   "execution_count": 6,
   "metadata": {},
   "outputs": [
    {
     "data": {
      "image/png": "[encoded data removed]",
      "text/plain": [
       "<rdkit.Chem.rdchem.Mol at 0x1a5fefd710>"
      ]
     },
     "execution_count": 6,
     "metadata": {},
     "output_type": "execute_result"
    }
   ],
   "source": [
    "# convert a molecule's smiles to a graphical representation\n",
    "m_smile = df['smiles'].get(0)\n",
    "m = Chem.MolFromSmiles(m_smile)\n",
    "m"
   ]
  },
  {
   "cell_type": "markdown",
   "metadata": {},
   "source": [
    "For this lab we will take the canonical smiles representation of a molecule and convert it into its RDKFingerprint through RDKit's libary. Using just the molecule's encoded fingerprint, we then try to predict its binding affinity to other proteins. "
   ]
  },
  {
   "cell_type": "markdown",
   "metadata": {},
   "source": [
    "## Binarize the Binding Affinity\n",
    "\n",
    "<em>[<strong>5 points</strong>] Binarize the binding affinity for each ligand in the assay. That is, convert the continuous measure of binding to binary. You should use the column 'IC50' for this calculation. Anything below 300 nM should be considered as an active binding. Anything above 10 uM should be considered non-binding (inactive). </em>"
   ]
  },
  {
   "cell_type": "markdown",
   "metadata": {},
   "source": [
    "First, let's write the function to binarize the IC50 column in the pandas DataFrame."
   ]
  },
  {
   "cell_type": "code",
   "execution_count": 7,
   "metadata": {},
   "outputs": [],
   "source": [
    "def binarize_affinity(value):\n",
    "    \"\"\"\n",
    "    Binarizes the ic50 value for a particular molecule and target; \n",
    "        if the value is between 300nM and 10uM, return None\n",
    "    \"\"\"\n",
    "    value = float(value)\n",
    "    if value < 300.0:\n",
    "        return 1\n",
    "    elif value > 10000.0:\n",
    "        return 0\n",
    "    else:\n",
    "        return None"
   ]
  },
  {
   "cell_type": "markdown",
   "metadata": {},
   "source": [
    "Cool, no sweat. We decided to also throw out all values that were in between the binding threshold."
   ]
  },
  {
   "cell_type": "code",
   "execution_count": 8,
   "metadata": {},
   "outputs": [
    {
     "data": {
      "text/html": [
       "<div>\n",
       "<style scoped>\n",
       "    .dataframe tbody tr th:only-of-type {\n",
       "        vertical-align: middle;\n",
       "    }\n",
       "\n",
       "    .dataframe tbody tr th {\n",
       "        vertical-align: top;\n",
       "    }\n",
       "\n",
       "    .dataframe thead th {\n",
       "        text-align: right;\n",
       "    }\n",
       "</style>\n",
       "<table border=\"1\" class=\"dataframe\">\n",
       "  <thead>\n",
       "    <tr style=\"text-align: right;\">\n",
       "      <th></th>\n",
       "      <th>smiles</th>\n",
       "      <th>target</th>\n",
       "      <th>ic50</th>\n",
       "    </tr>\n",
       "  </thead>\n",
       "  <tbody>\n",
       "    <tr>\n",
       "      <th>0</th>\n",
       "      <td>Nc1nc(N)c2c(CSc3ccc(Cl)c(Cl)c3)c[nH]c2n1</td>\n",
       "      <td>CHEMBL664913</td>\n",
       "      <td>0.0</td>\n",
       "    </tr>\n",
       "    <tr>\n",
       "      <th>2</th>\n",
       "      <td>[Cl-].C[N+](C)(CCCN1c2ccccc2Sc3ccc(Cl)cc13)Cc4...</td>\n",
       "      <td>CHEMBL811877</td>\n",
       "      <td>0.0</td>\n",
       "    </tr>\n",
       "    <tr>\n",
       "      <th>5</th>\n",
       "      <td>Cc1c(CN(C=O)c2ccc(Cl)c(Cl)c2)cnc3nc(N)nc(N)c13</td>\n",
       "      <td>CHEMBL665696</td>\n",
       "      <td>1.0</td>\n",
       "    </tr>\n",
       "    <tr>\n",
       "      <th>6</th>\n",
       "      <td>Cc1ccc2[nH]c(O)c(\\N=N\\C(=N)S)c2c1</td>\n",
       "      <td>CHEMBL805131</td>\n",
       "      <td>0.0</td>\n",
       "    </tr>\n",
       "    <tr>\n",
       "      <th>7</th>\n",
       "      <td>CN(Cc1ccc2nc(N)nc(N)c2n1)c3cccc(Cl)c3</td>\n",
       "      <td>CHEMBL665702</td>\n",
       "      <td>1.0</td>\n",
       "    </tr>\n",
       "    <tr>\n",
       "      <th>...</th>\n",
       "      <td>...</td>\n",
       "      <td>...</td>\n",
       "      <td>...</td>\n",
       "    </tr>\n",
       "    <tr>\n",
       "      <th>747910</th>\n",
       "      <td>C[C@@H](Oc1cc2ccn(CCC(=O)O)c2cc1Cl)c3ccccn3</td>\n",
       "      <td>CHEMBL4051432</td>\n",
       "      <td>1.0</td>\n",
       "    </tr>\n",
       "    <tr>\n",
       "      <th>747912</th>\n",
       "      <td>Cn1cc(cn1)S(=O)(=O)N2CCC3=Cc4c(C[C@@]3(C2)C(=O...</td>\n",
       "      <td>CHEMBL4051182</td>\n",
       "      <td>1.0</td>\n",
       "    </tr>\n",
       "    <tr>\n",
       "      <th>747913</th>\n",
       "      <td>CN(C)CCCNc1cc(ncn1)C2(CC2)C(=O)Nc3cc(ccc3C)C(=...</td>\n",
       "      <td>CHEMBL4050074</td>\n",
       "      <td>1.0</td>\n",
       "    </tr>\n",
       "    <tr>\n",
       "      <th>747914</th>\n",
       "      <td>CN1CCN(Cc2ccc(NC(=O)c3n[nH]cc3Nc4ncnc5sc(C)cc4...</td>\n",
       "      <td>CHEMBL4059187</td>\n",
       "      <td>1.0</td>\n",
       "    </tr>\n",
       "    <tr>\n",
       "      <th>747915</th>\n",
       "      <td>CN1CCN(Cc2ccc(NC(=O)c3n[nH]cc3Nc4ncnc5[nH]ccc4...</td>\n",
       "      <td>CHEMBL4059187</td>\n",
       "      <td>1.0</td>\n",
       "    </tr>\n",
       "  </tbody>\n",
       "</table>\n",
       "<p>477543 rows × 3 columns</p>\n",
       "</div>"
      ],
      "text/plain": [
       "                                                   smiles         target  ic50\n",
       "0                Nc1nc(N)c2c(CSc3ccc(Cl)c(Cl)c3)c[nH]c2n1   CHEMBL664913   0.0\n",
       "2       [Cl-].C[N+](C)(CCCN1c2ccccc2Sc3ccc(Cl)cc13)Cc4...   CHEMBL811877   0.0\n",
       "5          Cc1c(CN(C=O)c2ccc(Cl)c(Cl)c2)cnc3nc(N)nc(N)c13   CHEMBL665696   1.0\n",
       "6                       Cc1ccc2[nH]c(O)c(\\N=N\\C(=N)S)c2c1   CHEMBL805131   0.0\n",
       "7                   CN(Cc1ccc2nc(N)nc(N)c2n1)c3cccc(Cl)c3   CHEMBL665702   1.0\n",
       "...                                                   ...            ...   ...\n",
       "747910        C[C@@H](Oc1cc2ccn(CCC(=O)O)c2cc1Cl)c3ccccn3  CHEMBL4051432   1.0\n",
       "747912  Cn1cc(cn1)S(=O)(=O)N2CCC3=Cc4c(C[C@@]3(C2)C(=O...  CHEMBL4051182   1.0\n",
       "747913  CN(C)CCCNc1cc(ncn1)C2(CC2)C(=O)Nc3cc(ccc3C)C(=...  CHEMBL4050074   1.0\n",
       "747914  CN1CCN(Cc2ccc(NC(=O)c3n[nH]cc3Nc4ncnc5sc(C)cc4...  CHEMBL4059187   1.0\n",
       "747915  CN1CCN(Cc2ccc(NC(=O)c3n[nH]cc3Nc4ncnc5[nH]ccc4...  CHEMBL4059187   1.0\n",
       "\n",
       "[477543 rows x 3 columns]"
      ]
     },
     "execution_count": 8,
     "metadata": {},
     "output_type": "execute_result"
    }
   ],
   "source": [
    "df['ic50'] = df['ic50'].apply(binarize_affinity)\n",
    "df = df[df['ic50'].notna()]\n",
    "df"
   ]
  },
  {
   "cell_type": "markdown",
   "metadata": {},
   "source": [
    "## Featurize each Ligand\n",
    "<em>[<strong>10 points</strong>] Featurize each ligand using RDKit (https://www.rdkit.org). This will convert the ligand representation into a binary vector of features. Mention any hyper parameters you use. </em>"
   ]
  },
  {
   "cell_type": "markdown",
   "metadata": {},
   "source": [
    "The next two functions are helper functions for data processing. \n",
    "\n",
    "The first of the two is a function for filtering the top targets in the database based on their frequency of occurrence. In the next few cells, we decided to first remove discrepancies in the dataset that have errors in their information, then calculate the most occurring targets. We often found rows that were tabulated incorrectly and would fail when we attempted to take their RDKFingerprint. We will showcase this later.\n",
    "\n",
    "Next is the helper function to prepare the featurization of each ligand. This method simply takes a string of a binary code and converts it into an array."
   ]
  },
  {
   "cell_type": "code",
   "execution_count": 9,
   "metadata": {},
   "outputs": [],
   "source": [
    "# function to take the top x targets in the dataset based on number of occurrence\n",
    "def top(x):\n",
    "    \"\"\" Takes the top x most occurring targets in the DataFrame \"\"\"\n",
    "    # take the top, most tested proteins, sorting them from most to least tested\n",
    "    counts_series = df['target'].value_counts()\n",
    "\n",
    "    # grab the target names of the top x most tested proteins\n",
    "    top_targets = counts_series[0:x].index.values.tolist()\n",
    "\n",
    "    # retain only top x proteins in the dataframe, remove others\n",
    "    return df[df['target'].isin(top_targets)]\n",
    "\n",
    "\n",
    "def vectorize_binary_fingerprint(binary_fingerprint):\n",
    "    \"\"\" Vectorizes the binary fingerprint string for a given molecule \"\"\"\n",
    "    vector = []\n",
    "    for i in binary_fingerprint:\n",
    "        vector.append(int(i))\n",
    "    return vector"
   ]
  },
  {
   "cell_type": "markdown",
   "metadata": {},
   "source": [
    "We found that if we first took the top 200 most occurring targets, we could remove the incomplete or incorrectly entered data and still have 100 elements remaining. This was done so we wouldn't have to take the fingerprint of every molecule in the database. \n",
    "\n",
    "Thus, this next cell performs the featurization of the top 200 most occurring targets."
   ]
  },
  {
   "cell_type": "code",
   "execution_count": 23,
   "metadata": {},
   "outputs": [
    {
     "name": "stdout",
     "output_type": "stream",
     "text": [
      "This cell produces a long series of RDKit Error messages that have been suppressed to consolidate this lab\n"
     ]
    }
   ],
   "source": [
    "df = top(200)\n",
    "smiles_data = df['smiles'].tolist()\n",
    "featurized_data = []\n",
    "\n",
    "for smiles in smiles_data:\n",
    "    molecule = Chem.MolFromSmiles(smiles)\n",
    "    if molecule:\n",
    "        fingerprint = Chem.RDKFingerprint(molecule)\n",
    "        binary_fingerprint = fingerprint.ToBitString()\n",
    "        featurized_molecule = vectorize_binary_fingerprint(binary_fingerprint)\n",
    "        featurized_data.append(featurized_molecule)\n",
    "    else:\n",
    "        featurized_data.append(None)"
   ]
  },
  {
   "cell_type": "markdown",
   "metadata": {},
   "source": [
    "Wow, this looks pretty messy. We couldn't find a better way to do this, nor could we suppress the error logs of RDKit. This was caused by RDKit attempting to take the fingerprint of an incorrectly entered molecule's canonical smiles. \n",
    "\n",
    "Let's add the featurized smiles data back into the pandas DataFrame object."
   ]
  },
  {
   "cell_type": "code",
   "execution_count": 11,
   "metadata": {},
   "outputs": [
    {
     "data": {
      "text/html": [
       "<div>\n",
       "<style scoped>\n",
       "    .dataframe tbody tr th:only-of-type {\n",
       "        vertical-align: middle;\n",
       "    }\n",
       "\n",
       "    .dataframe tbody tr th {\n",
       "        vertical-align: top;\n",
       "    }\n",
       "\n",
       "    .dataframe thead th {\n",
       "        text-align: right;\n",
       "    }\n",
       "</style>\n",
       "<table border=\"1\" class=\"dataframe\">\n",
       "  <thead>\n",
       "    <tr style=\"text-align: right;\">\n",
       "      <th></th>\n",
       "      <th>smiles</th>\n",
       "      <th>target</th>\n",
       "      <th>ic50</th>\n",
       "      <th>featurized_smiles</th>\n",
       "    </tr>\n",
       "  </thead>\n",
       "  <tbody>\n",
       "    <tr>\n",
       "      <th>67</th>\n",
       "      <td>COc1ccccc1Sc2ccc3nc(N)nc(N)c3n2</td>\n",
       "      <td>CHEMBL830839</td>\n",
       "      <td>1.0</td>\n",
       "      <td>[1, 0, 1, 0, 0, 1, 1, 0, 0, 1, 0, 1, 1, 0, 0, ...</td>\n",
       "    </tr>\n",
       "    <tr>\n",
       "      <th>68</th>\n",
       "      <td>Nc1nc(N)c2CC(CNc3cc(Cl)ccc3Cl)CCc2n1</td>\n",
       "      <td>CHEMBL828662</td>\n",
       "      <td>1.0</td>\n",
       "      <td>[1, 0, 0, 0, 0, 1, 1, 0, 0, 0, 0, 0, 0, 0, 1, ...</td>\n",
       "    </tr>\n",
       "    <tr>\n",
       "      <th>69</th>\n",
       "      <td>Nc1nc(N)c2CC(CNc3cc(Cl)ccc3Cl)CCc2n1</td>\n",
       "      <td>CHEMBL830839</td>\n",
       "      <td>1.0</td>\n",
       "      <td>[1, 0, 0, 0, 0, 1, 1, 0, 0, 0, 0, 0, 0, 0, 1, ...</td>\n",
       "    </tr>\n",
       "    <tr>\n",
       "      <th>71</th>\n",
       "      <td>COc1ccc(N(C)Cc2ccc3nc(N)nc(N)c3n2)c(OC)c1</td>\n",
       "      <td>CHEMBL828662</td>\n",
       "      <td>1.0</td>\n",
       "      <td>[1, 0, 0, 0, 0, 1, 0, 1, 0, 0, 0, 1, 1, 0, 0, ...</td>\n",
       "    </tr>\n",
       "    <tr>\n",
       "      <th>76</th>\n",
       "      <td>CN(Cc1ccccc1)c2cnc3nc(N)nc(N)c3c2</td>\n",
       "      <td>CHEMBL830839</td>\n",
       "      <td>1.0</td>\n",
       "      <td>[1, 0, 1, 0, 0, 1, 0, 0, 0, 0, 1, 1, 0, 0, 1, ...</td>\n",
       "    </tr>\n",
       "    <tr>\n",
       "      <th>...</th>\n",
       "      <td>...</td>\n",
       "      <td>...</td>\n",
       "      <td>...</td>\n",
       "      <td>...</td>\n",
       "    </tr>\n",
       "    <tr>\n",
       "      <th>747291</th>\n",
       "      <td>CC(C)(C)C(=O)CN1CC2CN(CCCNc3ccc(cc3)C#N)CC(C1)O2</td>\n",
       "      <td>CHEMBL4017550</td>\n",
       "      <td>0.0</td>\n",
       "      <td>[0, 0, 1, 0, 0, 0, 0, 0, 0, 0, 0, 0, 0, 0, 0, ...</td>\n",
       "    </tr>\n",
       "    <tr>\n",
       "      <th>747316</th>\n",
       "      <td>NC(=N)NC(=O)Cc1c(Cl)cccc1Cl</td>\n",
       "      <td>CHEMBL4028921</td>\n",
       "      <td>0.0</td>\n",
       "      <td>[0, 0, 0, 0, 0, 0, 0, 0, 1, 0, 0, 0, 0, 0, 1, ...</td>\n",
       "    </tr>\n",
       "    <tr>\n",
       "      <th>747395</th>\n",
       "      <td>CC(C)[C@H](O)C(=O)N[C@@H](C)C(=O)N[C@@H]1C(=O)...</td>\n",
       "      <td>CHEMBL4017550</td>\n",
       "      <td>0.0</td>\n",
       "      <td>[0, 1, 0, 0, 1, 0, 0, 0, 1, 0, 1, 0, 0, 0, 1, ...</td>\n",
       "    </tr>\n",
       "    <tr>\n",
       "      <th>747457</th>\n",
       "      <td>S=P(N1CC1)(N2CC2)N3CC3</td>\n",
       "      <td>CHEMBL4017550</td>\n",
       "      <td>0.0</td>\n",
       "      <td>[0, 0, 0, 0, 0, 0, 0, 0, 0, 0, 0, 0, 0, 1, 0, ...</td>\n",
       "    </tr>\n",
       "    <tr>\n",
       "      <th>747458</th>\n",
       "      <td>CN(C)S(=O)(=O)c1ccc2Sc3ccccc3\\C(=C\\CCN4CCN(C)C...</td>\n",
       "      <td>CHEMBL4017550</td>\n",
       "      <td>0.0</td>\n",
       "      <td>[0, 0, 1, 1, 0, 0, 0, 0, 0, 0, 0, 0, 1, 0, 1, ...</td>\n",
       "    </tr>\n",
       "  </tbody>\n",
       "</table>\n",
       "<p>36467 rows × 4 columns</p>\n",
       "</div>"
      ],
      "text/plain": [
       "                                                   smiles         target  \\\n",
       "67                        COc1ccccc1Sc2ccc3nc(N)nc(N)c3n2   CHEMBL830839   \n",
       "68                   Nc1nc(N)c2CC(CNc3cc(Cl)ccc3Cl)CCc2n1   CHEMBL828662   \n",
       "69                   Nc1nc(N)c2CC(CNc3cc(Cl)ccc3Cl)CCc2n1   CHEMBL830839   \n",
       "71              COc1ccc(N(C)Cc2ccc3nc(N)nc(N)c3n2)c(OC)c1   CHEMBL828662   \n",
       "76                      CN(Cc1ccccc1)c2cnc3nc(N)nc(N)c3c2   CHEMBL830839   \n",
       "...                                                   ...            ...   \n",
       "747291   CC(C)(C)C(=O)CN1CC2CN(CCCNc3ccc(cc3)C#N)CC(C1)O2  CHEMBL4017550   \n",
       "747316                        NC(=N)NC(=O)Cc1c(Cl)cccc1Cl  CHEMBL4028921   \n",
       "747395  CC(C)[C@H](O)C(=O)N[C@@H](C)C(=O)N[C@@H]1C(=O)...  CHEMBL4017550   \n",
       "747457                             S=P(N1CC1)(N2CC2)N3CC3  CHEMBL4017550   \n",
       "747458  CN(C)S(=O)(=O)c1ccc2Sc3ccccc3\\C(=C\\CCN4CCN(C)C...  CHEMBL4017550   \n",
       "\n",
       "        ic50                                  featurized_smiles  \n",
       "67       1.0  [1, 0, 1, 0, 0, 1, 1, 0, 0, 1, 0, 1, 1, 0, 0, ...  \n",
       "68       1.0  [1, 0, 0, 0, 0, 1, 1, 0, 0, 0, 0, 0, 0, 0, 1, ...  \n",
       "69       1.0  [1, 0, 0, 0, 0, 1, 1, 0, 0, 0, 0, 0, 0, 0, 1, ...  \n",
       "71       1.0  [1, 0, 0, 0, 0, 1, 0, 1, 0, 0, 0, 1, 1, 0, 0, ...  \n",
       "76       1.0  [1, 0, 1, 0, 0, 1, 0, 0, 0, 0, 1, 1, 0, 0, 1, ...  \n",
       "...      ...                                                ...  \n",
       "747291   0.0  [0, 0, 1, 0, 0, 0, 0, 0, 0, 0, 0, 0, 0, 0, 0, ...  \n",
       "747316   0.0  [0, 0, 0, 0, 0, 0, 0, 0, 1, 0, 0, 0, 0, 0, 1, ...  \n",
       "747395   0.0  [0, 1, 0, 0, 1, 0, 0, 0, 1, 0, 1, 0, 0, 0, 1, ...  \n",
       "747457   0.0  [0, 0, 0, 0, 0, 0, 0, 0, 0, 0, 0, 0, 0, 1, 0, ...  \n",
       "747458   0.0  [0, 0, 1, 1, 0, 0, 0, 0, 0, 0, 0, 0, 1, 0, 1, ...  \n",
       "\n",
       "[36467 rows x 4 columns]"
      ]
     },
     "execution_count": 11,
     "metadata": {},
     "output_type": "execute_result"
    }
   ],
   "source": [
    "df['featurized_smiles'] = featurized_data\n",
    "df = df[df['featurized_smiles'].notna()]\n",
    "df"
   ]
  },
  {
   "cell_type": "markdown",
   "metadata": {},
   "source": [
    "## Filtering the Top 100 Targets\n",
    "\n",
    "<em>[<strong>10 points</strong>] Filter the database to the top 100 targets in the database. You will need a definition of \"top\" such as the targets with the most assays. From these top 100 targets, save the ligands that have an assay result for each of the targets. </em>"
   ]
  },
  {
   "cell_type": "markdown",
   "metadata": {},
   "source": [
    "Okay, now that we have removed the incorrect entries in the data, we now take the rows where the top 100 targets are most frequently occuring. \n",
    "\n",
    "Since it took forever to featurize the data, we save this to a pickle file so that we can load up the preprocessed data for the next time we work on the lab."
   ]
  },
  {
   "cell_type": "code",
   "execution_count": 12,
   "metadata": {},
   "outputs": [],
   "source": [
    "df = top(100)\n",
    "df.to_pickle(\"data/top_data.pkl\")"
   ]
  },
  {
   "cell_type": "code",
   "execution_count": 3,
   "metadata": {},
   "outputs": [],
   "source": [
    "df = pd.read_pickle(\"data/top_data.pkl\")"
   ]
  },
  {
   "cell_type": "markdown",
   "metadata": {},
   "source": [
    "## Train a multi-task model\n",
    "\n",
    "<em>[<strong>20 points</strong>] Train a multi-task model (one model for each target). Use an 80/20 split for each target.</em>"
   ]
  },
  {
   "cell_type": "markdown",
   "metadata": {},
   "source": [
    "Alright time for constructing the model! We first break up the dataset to a sklearn Bunch object for each target that is found within the database. This is so we can construct a multi-task model."
   ]
  },
  {
   "cell_type": "code",
   "execution_count": 4,
   "metadata": {},
   "outputs": [],
   "source": [
    "top_targets = df['target'].value_counts().index.values.tolist()\n",
    "tasks = dict()\n",
    "\n",
    "for target in top_targets:\n",
    "    target_rows = df.loc[df['target'] == target]\n",
    "    tasks[target] = Bunch(data   = np.array(target_rows.featurized_smiles.to_list()),\n",
    "                          labels = np.array(target_rows.ic50.to_list()))"
   ]
  },
  {
   "cell_type": "markdown",
   "metadata": {},
   "source": [
    "Now that we have fractured the dataset, we divide our data into training and testing dictionaries with an 80 - 20 split. "
   ]
  },
  {
   "cell_type": "code",
   "execution_count": 5,
   "metadata": {},
   "outputs": [],
   "source": [
    "X_train = dict()\n",
    "y_train = dict()\n",
    "X_test = dict()\n",
    "y_test = dict()\n",
    "\n",
    "for x in tasks.keys():\n",
    "    X_train[x], X_test[x], y_train[x], y_test[x] = train_test_split(tasks[x].data, \n",
    "                                                        tasks[x].labels, \n",
    "                                                        test_size=0.2,\n",
    "                                                        random_state=42)"
   ]
  },
  {
   "cell_type": "markdown",
   "metadata": {},
   "source": [
    "Because we're creating a multi-task classifier, we will resultantly have 100 different models, one for each class. In theory this will perform better than a standard sequential model with 100 different outputs because each individual model can learn the statistics strictly pertaining to its own model and not conflate its own learned patterns with another classifier for a different target. \n",
    "\n",
    "This next cell sets up the architecture for our models."
   ]
  },
  {
   "cell_type": "code",
   "execution_count": 10,
   "metadata": {},
   "outputs": [],
   "source": [
    "input_shape = 2048\n",
    "\n",
    "inputs = Input(shape=(input_shape,))\n",
    "shared_mlp = Dense(64, activation='relu')(inputs)\n",
    "shared_mlp = Dense(64, activation='relu')(shared_mlp)\n",
    "\n",
    "# make a dictionary of models for each task\n",
    "models_mtl = dict()\n",
    "\n",
    "for x in tasks.keys():\n",
    "    personal_layer = Dense(10, activation='relu')(shared_mlp)\n",
    "    output_layer = Dense(1)(personal_layer)\n",
    "    model = Model(inputs=inputs, outputs=output_layer)\n",
    "    model.compile(optimizer='sgd', loss='mean_squared_error')\n",
    "    models_mtl[x] = model"
   ]
  },
  {
   "cell_type": "markdown",
   "metadata": {},
   "source": [
    "Let's begin training. "
   ]
  },
  {
   "cell_type": "code",
   "execution_count": 11,
   "metadata": {},
   "outputs": [
    {
     "name": "stdout",
     "output_type": "stream",
     "text": [
      "Epoch 0, Epoch 1, Epoch 2, Epoch 3, Epoch 4, Epoch 5, Epoch 6, Epoch 7, Epoch 8, Epoch 9, Epoch 10, Epoch 11, Epoch 12, Epoch 13, Epoch 14, Epoch 15, Epoch 16, Epoch 17, Epoch 18, Epoch 19, CPU times: user 4min 8s, sys: 13.6 s, total: 4min 21s\n",
      "Wall time: 3min 42s\n"
     ]
    }
   ],
   "source": [
    "%%time\n",
    "\n",
    "EPOCHS = 20 # number of epochs for training\n",
    "all_keys = [key for key in tasks.keys()] # list of each keys \n",
    "\n",
    "for i in range(EPOCHS):\n",
    "    print('Epoch',i,end=', ')\n",
    "    shuffle(all_keys)\n",
    "    for x in all_keys:\n",
    "        models_mtl[x].fit(X_train[x], \n",
    "                          y_train[x], \n",
    "                          verbose=0)"
   ]
  },
  {
   "cell_type": "markdown",
   "metadata": {},
   "source": [
    "Now that we have finished training we can grab the binding predictions for each class. We report these results in the next few cells."
   ]
  },
  {
   "cell_type": "code",
   "execution_count": 12,
   "metadata": {},
   "outputs": [
    {
     "name": "stdout",
     "output_type": "stream",
     "text": [
      "CPU times: user 3.14 s, sys: 95.7 ms, total: 3.24 s\n",
      "Wall time: 3.05 s\n"
     ]
    }
   ],
   "source": [
    "%%time\n",
    "y_mtl=[]\n",
    "yhat_mtl=[]\n",
    "\n",
    "for x in X_test.keys():\n",
    "    yhat_mlp = models_mtl[x].predict(X_test[x])\n",
    "\n",
    "    y_mtl.append(y_test[x].ravel())\n",
    "    yhat_mtl.append(yhat_mlp.ravel())"
   ]
  },
  {
   "cell_type": "markdown",
   "metadata": {},
   "source": [
    "## Report the results\n",
    "\n",
    "<em>[<strong>20 points</strong>] Report the results using AUC, BEDROC, and Enrichment factor. These metrics are easily calculated using the RDKit scoring library. Discuss the results (you will need to look up each evaluation metric to interpret the result). You may be interested in page 6 of the following document: https://www.dropbox.com/s/6je37ml475vg3ep/Srinivas2018ImplictDescriptorUnderReview.pdf?dl=0 </em>\n"
   ]
  },
  {
   "cell_type": "markdown",
   "metadata": {},
   "source": [
    "Evaluation metrics defined here: https://new.pharmacelera.com/science/measuring-virtual-screening-accuracy/"
   ]
  },
  {
   "cell_type": "markdown",
   "metadata": {},
   "source": [
    "First we decided to try a Bland-Altman plot to see the measure of the agreeableness between the actual target values and our predicted target values."
   ]
  },
  {
   "cell_type": "code",
   "execution_count": 13,
   "metadata": {},
   "outputs": [
    {
     "data": {
      "image/png": "[encoded data removed]",
      "text/plain": [
       "<Figure size 1080x720 with 1 Axes>"
      ]
     },
     "metadata": {
      "needs_background": "light"
     },
     "output_type": "display_data"
    }
   ],
   "source": [
    "def bland_altman_plot(data1, data2, *args, **kwargs):\n",
    "    data1     = np.asarray(data1)\n",
    "    data2     = np.asarray(data2)\n",
    "    mean      = np.mean([data1, data2], axis=0)\n",
    "    diff      = data1 - data2                   # Difference between data1 and data2\n",
    "    md        = np.mean(diff)                   # Mean of the difference\n",
    "    sd        = np.std(diff, axis=0)            # Standard deviation of the difference\n",
    "\n",
    "    plt.figure(figsize=(15,10))\n",
    "    plt.scatter(mean, diff, *args, **kwargs)\n",
    "    plt.axhline(md,           color='gray', linestyle='--')\n",
    "    plt.axhline(md + 1.96*sd, color='gray', linestyle='--')\n",
    "    plt.axhline(md - 1.96*sd, color='gray', linestyle='--')\n",
    "    plt.title(\"Bland Altman, MSE: \"+str(mean_squared_error(data1,data2)))\n",
    "    plt.xlabel('Mean Score', fontsize=8)\n",
    "    plt.ylabel('Diff Score', fontsize=8)\n",
    "    plt.show()\n",
    "\n",
    "bland_altman_plot(np.concatenate(y_mtl), np.concatenate(yhat_mtl))"
   ]
  },
  {
   "cell_type": "markdown",
   "metadata": {},
   "source": [
    "So it turns out that the classifier did okay. By no means did it perform spectacularly. Most of our datapoints fall upon the zero x axis which is good, but a good amount are certainly inaccurate. It's hard to know if our preprocessing prevented our model in learning core relationships between the top 100 molecules, or if our model was poorly constructed. In the exceptional work, we will get to this later. "
   ]
  },
  {
   "cell_type": "markdown",
   "metadata": {},
   "source": [
    "**Area Under the ROC Curve (AUC)** represents degree or measure of separability, which indicates how well the model can distinguish between classes. The higher the AUC, the better the model is at predicting 0s as 0s and 1s as 1s (true positives)"
   ]
  },
  {
   "cell_type": "code",
   "execution_count": 93,
   "metadata": {},
   "outputs": [],
   "source": [
    "scores = np.hstack((yhat_mtl, y_mtl))\n",
    "col = 1"
   ]
  },
  {
   "cell_type": "code",
   "execution_count": 91,
   "metadata": {},
   "outputs": [
    {
     "data": {
      "text/plain": [
       "0.8492642799212144"
      ]
     },
     "execution_count": 91,
     "metadata": {},
     "output_type": "execute_result"
    }
   ],
   "source": [
    "rdkit.ML.Scoring.Scoring.CalcAUC(scores, col)"
   ]
  },
  {
   "cell_type": "markdown",
   "metadata": {},
   "source": [
    "**Boltzmann-Enhanced Discrimination of ROC (BEDROC)** is a metric that assigns more weight to early ranked molecules than late ranked molecules. The active compounds are weighted depending on their position in the ranking using an exponential function, ranging from 1.0 for the top ranked compound to close to zero for the lowest ranked compound. The exponential factor determines how much the BEDROC parameter focuses on the top of the list. The drawbacks of this metric are its dependency of the ratio of active/inactive compounds and the dependency of an extrinsic variable (adjustable exponential factor). That means that the value depends on the method and a particular experiment. Hence, sets with different active/inactive compound ratios cannot be compared directly using such a metric."
   ]
  },
  {
   "cell_type": "code",
   "execution_count": 102,
   "metadata": {},
   "outputs": [
    {
     "name": "stdout",
     "output_type": "stream",
     "text": [
      "0.8526675541990919\n",
      "0.8788541634277337\n"
     ]
    }
   ],
   "source": [
    "# alpha = hyperparam that tells you how much do you care about being in the top x% \n",
    "# small = care a lot, large = don't care = AUC\n",
    "alpha1 = 0.1\n",
    "alpha2 = 0.9\n",
    "\n",
    "print(rdkit.ML.Scoring.Scoring.CalcBEDROC(scores, col, alpha1))\n",
    "print(rdkit.ML.Scoring.Scoring.CalcBEDROC(scores, col, alpha2))"
   ]
  },
  {
   "cell_type": "markdown",
   "metadata": {},
   "source": [
    "As you can see above, changing the alpha value does not affect our BEDROC score too much. This would indicate that our particular dataset does not have a strong dependence on the rankings of the compounds"
   ]
  },
  {
   "cell_type": "markdown",
   "metadata": {},
   "source": [
    "**Enrichment Factor (EF)** measures the fraction of active compounds found in a specific percentage, solving the problem of comparing the results for datasets with different active / inactive compound ratios. EF has intuitive interpretation related to the purpose of the VS itself (the ability to select a subset of molecules with a promising chance of finding a hit compound). However, although the EF metric is independent of adjustable parameters, it is still inﬂuenced by the number of active compounds in the dataset. EF becomes smaller if fewer inactive molecules are initially present."
   ]
  },
  {
   "cell_type": "code",
   "execution_count": 105,
   "metadata": {},
   "outputs": [
    {
     "data": {
      "image/png": "[encoded data removed]",
      "text/plain": [
       "<Figure size 432x288 with 1 Axes>"
      ]
     },
     "metadata": {
      "needs_background": "light"
     },
     "output_type": "display_data"
    }
   ],
   "source": [
    "# smaller = harder for algorithm to perform well\n",
    "fractions = [0.01, 0.1, 0.25, 0.5, 0.75, 0.9, 0.99]\n",
    "\n",
    "enrichment_factors = rdkit.ML.Scoring.Scoring.CalcEnrichment(scores, col, fractions) \n",
    "\n",
    "plt.plot(fractions, enrichment_factors, marker='o')\n",
    "plt.show()"
   ]
  },
  {
   "cell_type": "markdown",
   "metadata": {},
   "source": [
    "Understanding the graph above, as the fractions used by the EF increase, the EF itself actually decreases. This indicates that fewer inactive molecules are initially present in the dataset as a whole when compared to fractions of it. "
   ]
  },
  {
   "cell_type": "markdown",
   "metadata": {},
   "source": [
    "## Additional Analysis\n",
    "\n",
    "<em>[<strong>10 points</strong>] Finally, you have free reign to perform any other analysis. A suggested analysis is to add an additional mode of input data such as another fingerprint for each ligand.</em>"
   ]
  },
  {
   "cell_type": "markdown",
   "metadata": {},
   "source": [
    "We decided to remake the multi-task classifier's architecture by adding another perceptron layer and increasing the number of neurons within the layers. By doing this and increasing the number of epochs, we hope to accomplish a superior model to the one from before. \n",
    "\n",
    "Similar to before, let's start with building the model."
   ]
  },
  {
   "cell_type": "code",
   "execution_count": 14,
   "metadata": {},
   "outputs": [],
   "source": [
    "input_shape = 2048\n",
    "\n",
    "inputs = Input(shape=(input_shape,))\n",
    "shared_mlp = Dense(1000, activation='relu')(inputs)\n",
    "shared_mlp = Dense(500, activation='relu')(shared_mlp)\n",
    "shared_mlp = Dense(100, activation='relu')(shared_mlp)\n",
    "\n",
    "# make a dictionary of models for each task\n",
    "models_mtl = dict()\n",
    "\n",
    "for x in tasks.keys():\n",
    "    personal_layer = Dense(50, activation='softmax')(shared_mlp)\n",
    "    output_layer = Dense(1)(personal_layer)\n",
    "    model = Model(inputs=inputs, outputs=output_layer)\n",
    "    model.compile(optimizer='rmsprop', loss='mean_squared_error')\n",
    "    models_mtl[x] = model"
   ]
  },
  {
   "cell_type": "markdown",
   "metadata": {},
   "source": [
    "We are now going to train the new model for more than twice the amount of time."
   ]
  },
  {
   "cell_type": "code",
   "execution_count": 15,
   "metadata": {},
   "outputs": [
    {
     "name": "stdout",
     "output_type": "stream",
     "text": [
      "Epoch 0, Epoch 1, Epoch 2, Epoch 3, Epoch 4, Epoch 5, Epoch 6, Epoch 7, Epoch 8, Epoch 9, Epoch 10, Epoch 11, Epoch 12, Epoch 13, Epoch 14, Epoch 15, Epoch 16, Epoch 17, Epoch 18, Epoch 19, Epoch 20, Epoch 21, Epoch 22, Epoch 23, Epoch 24, Epoch 25, Epoch 26, Epoch 27, Epoch 28, Epoch 29, Epoch 30, Epoch 31, Epoch 32, Epoch 33, Epoch 34, Epoch 35, Epoch 36, Epoch 37, Epoch 38, Epoch 39, Epoch 40, Epoch 41, Epoch 42, Epoch 43, Epoch 44, Epoch 45, Epoch 46, Epoch 47, Epoch 48, Epoch 49, CPU times: user 55min 51s, sys: 55min 12s, total: 1h 51min 3s\n",
      "Wall time: 29min 46s\n"
     ]
    }
   ],
   "source": [
    "%%time\n",
    "\n",
    "EPOCHS = 50 # number of epochs for training\n",
    "all_keys = [key for key in tasks.keys()] # list of each keys \n",
    "\n",
    "for i in range(EPOCHS):\n",
    "    print('Epoch',i,end=', ')\n",
    "    shuffle(all_keys)\n",
    "    for x in all_keys:\n",
    "        models_mtl[x].fit(X_train[x], \n",
    "                          y_train[x], \n",
    "                          verbose=0)"
   ]
  },
  {
   "cell_type": "markdown",
   "metadata": {},
   "source": [
    "Done. Now let's get our predictions and see how the model performed."
   ]
  },
  {
   "cell_type": "code",
   "execution_count": 16,
   "metadata": {},
   "outputs": [
    {
     "name": "stdout",
     "output_type": "stream",
     "text": [
      "CPU times: user 6.76 s, sys: 989 ms, total: 7.75 s\n",
      "Wall time: 5.35 s\n"
     ]
    }
   ],
   "source": [
    "%%time\n",
    "y_mtl=[]\n",
    "yhat_mtl=[]\n",
    "\n",
    "for x in X_test.keys():\n",
    "    yhat_mlp = models_mtl[x].predict(X_test[x])\n",
    "\n",
    "    y_mtl.append(y_test[x].ravel())\n",
    "    yhat_mtl.append(yhat_mlp.ravel())"
   ]
  },
  {
   "cell_type": "code",
   "execution_count": 17,
   "metadata": {},
   "outputs": [
    {
     "data": {
      "image/png": "[encoded data removed]",
      "text/plain": [
       "<Figure size 1080x720 with 1 Axes>"
      ]
     },
     "metadata": {
      "needs_background": "light"
     },
     "output_type": "display_data"
    }
   ],
   "source": [
    "bland_altman_plot(np.concatenate(y_mtl), np.concatenate(yhat_mtl))"
   ]
  },
  {
   "cell_type": "code",
   "execution_count": 21,
   "metadata": {},
   "outputs": [
    {
     "data": {
      "text/plain": [
       "0.8490325570617543"
      ]
     },
     "execution_count": 21,
     "metadata": {},
     "output_type": "execute_result"
    }
   ],
   "source": [
    "# Calculating AUC\n",
    "scores = np.hstack((yhat_mtl, y_mtl))\n",
    "col = 1\n",
    "rdkit.ML.Scoring.Scoring.CalcAUC(scores, col)"
   ]
  },
  {
   "cell_type": "code",
   "execution_count": 19,
   "metadata": {},
   "outputs": [
    {
     "name": "stdout",
     "output_type": "stream",
     "text": [
      "0.852444914382772\n",
      "0.8786952017400618\n"
     ]
    }
   ],
   "source": [
    "# Calculating BEDROC\n",
    "alpha1 = 0.1\n",
    "alpha2 = 0.9\n",
    "\n",
    "print(rdkit.ML.Scoring.Scoring.CalcBEDROC(scores, col, alpha1))\n",
    "print(rdkit.ML.Scoring.Scoring.CalcBEDROC(scores, col, alpha2))"
   ]
  },
  {
   "cell_type": "code",
   "execution_count": 20,
   "metadata": {},
   "outputs": [
    {
     "data": {
      "image/png": "[encoded data removed]",
      "text/plain": [
       "<Figure size 432x288 with 1 Axes>"
      ]
     },
     "metadata": {
      "needs_background": "light"
     },
     "output_type": "display_data"
    }
   ],
   "source": [
    "# Calculating Enrichment\n",
    "fractions = [0.01, 0.1, 0.25, 0.5, 0.75, 0.9, 0.99]\n",
    "\n",
    "enrichment_factors = rdkit.ML.Scoring.Scoring.CalcEnrichment(scores, col, fractions) \n",
    "\n",
    "plt.plot(fractions, enrichment_factors, marker='o')\n",
    "plt.show()"
   ]
  },
  {
   "cell_type": "markdown",
   "metadata": {},
   "source": [
    "Looking at the new scores, we see that the model performed almost identically to the previous model. To improve our overall performance, it would probably be best to look at the original dataset and perform our own preprocessing. This way, we could hope to retain more of the dataset and avoid removing a wide variety of the data rows. Additionally, it would most likely help if we used more of the dataset's features provided to us. However, this would take an increased level of understanding of the problem and potentially how the ligands and proteins interact with one another. "
   ]
  },
  {
   "cell_type": "code",
   "execution_count": null,
   "metadata": {},
   "outputs": [],
   "source": []
  }
 ],
 "metadata": {
  "kernelspec": {
   "display_name": "Python 3",
   "language": "python",
   "name": "python3"
  },
  "language_info": {
   "codemirror_mode": {
    "name": "ipython",
    "version": 3
   },
   "file_extension": ".py",
   "mimetype": "text/x-python",
   "name": "python",
   "nbconvert_exporter": "python",
   "pygments_lexer": "ipython3",
   "version": "3.7.7"
  }
 },
 "nbformat": 4,
 "nbformat_minor": 4
}
