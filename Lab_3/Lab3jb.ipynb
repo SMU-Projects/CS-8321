{
 "cells": [
  {
   "cell_type": "markdown",
   "metadata": {},
   "source": [
    "# Lab Three: Multi-modal and Multi-task"
   ]
  },
  {
   "cell_type": "markdown",
   "metadata": {},
   "source": [
    "#### CS8321: Neural Networks and Machine Learning\n",
    "    \n",
    "Johnathan Barr - 39854013\n",
    "<br>\n",
    "Will Lacey - 45906124"
   ]
  },
  {
   "cell_type": "markdown",
   "metadata": {},
   "source": [
    "## Lab Description\n",
    "<em>In this lab, you will implement a multi-task network (possibly multi-modal) that classifies interactions between compounds/ ligands with proteins in the ChEMBL database (https://www.ebi.ac.uk/chembl/). The objective is to classify which ligands bind to which targets. Each target will be a separate task working from a  shared ligand representation. </em>"
   ]
  },
  {
   "cell_type": "markdown",
   "metadata": {},
   "source": [
    "## Import Modules and Initialization\n",
    "\n",
    "Before we begin, let's import essential packages for data analysis."
   ]
  },
  {
   "cell_type": "code",
   "execution_count": 129,
   "metadata": {},
   "outputs": [],
   "source": [
    "import numpy as np\n",
    "import pandas as pd"
   ]
  },
  {
   "cell_type": "markdown",
   "metadata": {},
   "source": [
    "## Downloading the ChEMBL Dataset"
   ]
  },
  {
   "cell_type": "markdown",
   "metadata": {},
   "source": [
    "<em>[<strong>10 points</strong>] Download the ChEMBL database or setup queries to download a subset of the database. An already processed version of the dataset is available here (thanks to Niraj Verma): https://smu.box.com/s/smqmwlef0yehpieicwxqdr99k7f9ru04</em>"
   ]
  },
  {
   "cell_type": "code",
   "execution_count": null,
   "metadata": {},
   "outputs": [],
   "source": [
    "# export data as .npy\n",
    "f = open('./data.csv', 'r', encoding=\"ISO-8859-1\")\n",
    "lines = f.readlines()\n",
    "f.close()\n",
    "\n",
    "\n",
    "flis = [] # will have [id, ic50_val, unit, target, smiles] \n",
    "\n",
    "for line in lines[1:]: # first line contains the headers (therefore skiped)\n",
    "    lis = line.strip().split(',')\n",
    "\n",
    "    if len(lis) < 36:\n",
    "        continue\n",
    "    \n",
    "    \n",
    "    #print (lis[0], lis[3], lis[8], lis[36])\n",
    "    # [id, ic50_val, unit, target, smiles]\n",
    "\n",
    "    flis.append([lis[0], lis[3], lis[4], lis[8], lis[36]])\n",
    "    #break\n",
    "\n",
    "# I have no idea why python adds \\x00 to each string\n",
    "# Therefoe I removed it\n",
    "\n",
    "for i in range (len(flis)):\n",
    "    flis[i] = [j.replace('\\x00','') for j in flis[i]]\n",
    "    flis[i] = [j.replace('\"','') for j in flis[i]]\n",
    "\n",
    "# Some of the data have smiles or IC50 missing\n",
    "# So I removed them as well\n",
    "list = []\n",
    "for i in flis:\n",
    "    if len(i[1]) != 0 and len(i[-1]) != 0:\n",
    "        #print (i)\n",
    "        list.append(i)\n",
    "\n",
    "X, t, y = [], [], []\n",
    "for i in list:\n",
    "    if i[2] == 'nM':\n",
    "        if len(i[-1]) == 0 or len(i[-2]) ==0 or len(i[1]) ==0:\n",
    "            print ('Thers a problem !!')\n",
    "        X.append(i[-1])\n",
    "        t.append(i[-2])\n",
    "        y.append(i[1])\n",
    "\n",
    "# smiles is the string representation of each ligand\n",
    "# target is the protein where ligand binds (treat it as different schools)\n",
    "# ic50 is the score\n",
    "np.save('data/data.npy', {'smiles':X, 'target':t, 'ic50':y})"
   ]
  },
  {
   "cell_type": "code",
   "execution_count": 130,
   "metadata": {},
   "outputs": [],
   "source": [
    "data = np.load('./data.npy', allow_pickle=True)"
   ]
  },
  {
   "cell_type": "markdown",
   "metadata": {},
   "source": [
    "## Filtering the Top 100 Targets\n",
    "\n",
    "<em>[<strong>10 points</strong>] Filter the database to the top 100 targets in the database. You will need a definition of \"top\" such as the targets with the most assays. From these top 100 targets, save the ligands that have an assay result for each of the targets. </em>"
   ]
  },
  {
   "cell_type": "code",
   "execution_count": 131,
   "metadata": {},
   "outputs": [],
   "source": [
    "df = pd.DataFrame(data.tolist())"
   ]
  },
  {
   "cell_type": "code",
   "execution_count": 132,
   "metadata": {},
   "outputs": [],
   "source": [
    "counts_series = df['target'].value_counts()"
   ]
  },
  {
   "cell_type": "code",
   "execution_count": 133,
   "metadata": {},
   "outputs": [],
   "source": [
    "top_targets = counts_series.to_frame()[0:100].index.values.tolist()"
   ]
  },
  {
   "cell_type": "code",
   "execution_count": 134,
   "metadata": {},
   "outputs": [],
   "source": [
    "top_data = df[df['target'].isin(top_targets)]"
   ]
  },
  {
   "cell_type": "code",
   "execution_count": 135,
   "metadata": {},
   "outputs": [
    {
     "data": {
      "text/html": [
       "<div>\n",
       "<style scoped>\n",
       "    .dataframe tbody tr th:only-of-type {\n",
       "        vertical-align: middle;\n",
       "    }\n",
       "\n",
       "    .dataframe tbody tr th {\n",
       "        vertical-align: top;\n",
       "    }\n",
       "\n",
       "    .dataframe thead th {\n",
       "        text-align: right;\n",
       "    }\n",
       "</style>\n",
       "<table border=\"1\" class=\"dataframe\">\n",
       "  <thead>\n",
       "    <tr style=\"text-align: right;\">\n",
       "      <th></th>\n",
       "      <th>smiles</th>\n",
       "      <th>target</th>\n",
       "      <th>ic50</th>\n",
       "    </tr>\n",
       "  </thead>\n",
       "  <tbody>\n",
       "    <tr>\n",
       "      <th>422</th>\n",
       "      <td>COc1ccccc1CNC(=O)CCN2C(=O)Nc3ccccc3C2=O</td>\n",
       "      <td>CHEMBL3436040</td>\n",
       "      <td>12000</td>\n",
       "    </tr>\n",
       "    <tr>\n",
       "      <th>423</th>\n",
       "      <td>Cl.COc1ccc2nccc(C(O)C3CC4(CCN3CC4)C=C)c2c1</td>\n",
       "      <td>CHEMBL3436040</td>\n",
       "      <td>12000</td>\n",
       "    </tr>\n",
       "    <tr>\n",
       "      <th>424</th>\n",
       "      <td>Cn1c(nc2ccccc12)C(=O)c3cccc4ccccc34</td>\n",
       "      <td>CHEMBL3436040</td>\n",
       "      <td>12000</td>\n",
       "    </tr>\n",
       "    <tr>\n",
       "      <th>425</th>\n",
       "      <td>Cl.CN1C(=O)N(C)c2cc(CNCCNc3ccnc4cc(Cl)ccc34)ccc12</td>\n",
       "      <td>CHEMBL3436040</td>\n",
       "      <td>12000</td>\n",
       "    </tr>\n",
       "    <tr>\n",
       "      <th>426</th>\n",
       "      <td>COc1ccc(CNC(=O)C2=CC3=C(N=C4C=CC=CN4C3=O)N(CCc...</td>\n",
       "      <td>CHEMBL3436040</td>\n",
       "      <td>12000</td>\n",
       "    </tr>\n",
       "    <tr>\n",
       "      <th>...</th>\n",
       "      <td>...</td>\n",
       "      <td>...</td>\n",
       "      <td>...</td>\n",
       "    </tr>\n",
       "    <tr>\n",
       "      <th>747440</th>\n",
       "      <td>1.76</td>\n",
       "      <td>CHEMBL3887886</td>\n",
       "      <td>66</td>\n",
       "    </tr>\n",
       "    <tr>\n",
       "      <th>747446</th>\n",
       "      <td>9606</td>\n",
       "      <td>CHEMBL3887679</td>\n",
       "      <td>9.9</td>\n",
       "    </tr>\n",
       "    <tr>\n",
       "      <th>747457</th>\n",
       "      <td>S=P(N1CC1)(N2CC2)N3CC3</td>\n",
       "      <td>CHEMBL4017550</td>\n",
       "      <td>1000000</td>\n",
       "    </tr>\n",
       "    <tr>\n",
       "      <th>747458</th>\n",
       "      <td>CN(C)S(=O)(=O)c1ccc2Sc3ccccc3\\C(=C\\CCN4CCN(C)C...</td>\n",
       "      <td>CHEMBL4017550</td>\n",
       "      <td>30400</td>\n",
       "    </tr>\n",
       "    <tr>\n",
       "      <th>747459</th>\n",
       "      <td>CCS[C@@]1(CC[C@H]2[C@@H]3CCC4=CC(=O)C=C[C@]4(C...</td>\n",
       "      <td>CHEMBL4017550</td>\n",
       "      <td>10000</td>\n",
       "    </tr>\n",
       "  </tbody>\n",
       "</table>\n",
       "<p>59839 rows × 3 columns</p>\n",
       "</div>"
      ],
      "text/plain": [
       "                                                   smiles         target  \\\n",
       "422               COc1ccccc1CNC(=O)CCN2C(=O)Nc3ccccc3C2=O  CHEMBL3436040   \n",
       "423            Cl.COc1ccc2nccc(C(O)C3CC4(CCN3CC4)C=C)c2c1  CHEMBL3436040   \n",
       "424                   Cn1c(nc2ccccc12)C(=O)c3cccc4ccccc34  CHEMBL3436040   \n",
       "425     Cl.CN1C(=O)N(C)c2cc(CNCCNc3ccnc4cc(Cl)ccc34)ccc12  CHEMBL3436040   \n",
       "426     COc1ccc(CNC(=O)C2=CC3=C(N=C4C=CC=CN4C3=O)N(CCc...  CHEMBL3436040   \n",
       "...                                                   ...            ...   \n",
       "747440                                               1.76  CHEMBL3887886   \n",
       "747446                                               9606  CHEMBL3887679   \n",
       "747457                             S=P(N1CC1)(N2CC2)N3CC3  CHEMBL4017550   \n",
       "747458  CN(C)S(=O)(=O)c1ccc2Sc3ccccc3\\C(=C\\CCN4CCN(C)C...  CHEMBL4017550   \n",
       "747459  CCS[C@@]1(CC[C@H]2[C@@H]3CCC4=CC(=O)C=C[C@]4(C...  CHEMBL4017550   \n",
       "\n",
       "           ic50  \n",
       "422       12000  \n",
       "423       12000  \n",
       "424       12000  \n",
       "425       12000  \n",
       "426       12000  \n",
       "...         ...  \n",
       "747440       66  \n",
       "747446      9.9  \n",
       "747457  1000000  \n",
       "747458    30400  \n",
       "747459    10000  \n",
       "\n",
       "[59839 rows x 3 columns]"
      ]
     },
     "execution_count": 135,
     "metadata": {},
     "output_type": "execute_result"
    }
   ],
   "source": [
    "top_data"
   ]
  },
  {
   "cell_type": "markdown",
   "metadata": {},
   "source": [
    "## Binarize the Binding Affinity\n",
    "\n",
    "<em>[<strong>5 points</strong>] Binarize the binding affinity for each ligand in the assay. That is, convert the continuous measure of binding to binary. You should use the column 'IC50' for this calculation. Anything below 300 nM should be considered as an active binding. Anything above 10 uM should be considered non-binding (inactive). </em>"
   ]
  },
  {
   "cell_type": "code",
   "execution_count": 136,
   "metadata": {},
   "outputs": [],
   "source": [
    "def binarize_affinity(value):\n",
    "    value = float(value)\n",
    "    if value < 300.0:\n",
    "        return 1\n",
    "    elif value > 10000.0:\n",
    "        return 0\n",
    "    else:\n",
    "        return None"
   ]
  },
  {
   "cell_type": "code",
   "execution_count": 137,
   "metadata": {},
   "outputs": [
    {
     "name": "stderr",
     "output_type": "stream",
     "text": [
      "/Users/Johnathan/opt/anaconda3/envs/mlenv/lib/python3.7/site-packages/ipykernel_launcher.py:1: SettingWithCopyWarning: \n",
      "A value is trying to be set on a copy of a slice from a DataFrame.\n",
      "Try using .loc[row_indexer,col_indexer] = value instead\n",
      "\n",
      "See the caveats in the documentation: https://pandas.pydata.org/pandas-docs/stable/user_guide/indexing.html#returning-a-view-versus-a-copy\n",
      "  \"\"\"Entry point for launching an IPython kernel.\n"
     ]
    }
   ],
   "source": [
    "top_data['ic50'] = top_data['ic50'].apply(binarize_affinity)\n",
    "top_data = top_data[top_data['ic50'].notna()]"
   ]
  },
  {
   "cell_type": "code",
   "execution_count": 138,
   "metadata": {},
   "outputs": [
    {
     "data": {
      "text/html": [
       "<div>\n",
       "<style scoped>\n",
       "    .dataframe tbody tr th:only-of-type {\n",
       "        vertical-align: middle;\n",
       "    }\n",
       "\n",
       "    .dataframe tbody tr th {\n",
       "        vertical-align: top;\n",
       "    }\n",
       "\n",
       "    .dataframe thead th {\n",
       "        text-align: right;\n",
       "    }\n",
       "</style>\n",
       "<table border=\"1\" class=\"dataframe\">\n",
       "  <thead>\n",
       "    <tr style=\"text-align: right;\">\n",
       "      <th></th>\n",
       "      <th>smiles</th>\n",
       "      <th>target</th>\n",
       "      <th>ic50</th>\n",
       "    </tr>\n",
       "  </thead>\n",
       "  <tbody>\n",
       "    <tr>\n",
       "      <th>422</th>\n",
       "      <td>COc1ccccc1CNC(=O)CCN2C(=O)Nc3ccccc3C2=O</td>\n",
       "      <td>CHEMBL3436040</td>\n",
       "      <td>0.0</td>\n",
       "    </tr>\n",
       "    <tr>\n",
       "      <th>423</th>\n",
       "      <td>Cl.COc1ccc2nccc(C(O)C3CC4(CCN3CC4)C=C)c2c1</td>\n",
       "      <td>CHEMBL3436040</td>\n",
       "      <td>0.0</td>\n",
       "    </tr>\n",
       "    <tr>\n",
       "      <th>424</th>\n",
       "      <td>Cn1c(nc2ccccc12)C(=O)c3cccc4ccccc34</td>\n",
       "      <td>CHEMBL3436040</td>\n",
       "      <td>0.0</td>\n",
       "    </tr>\n",
       "    <tr>\n",
       "      <th>425</th>\n",
       "      <td>Cl.CN1C(=O)N(C)c2cc(CNCCNc3ccnc4cc(Cl)ccc34)ccc12</td>\n",
       "      <td>CHEMBL3436040</td>\n",
       "      <td>0.0</td>\n",
       "    </tr>\n",
       "    <tr>\n",
       "      <th>426</th>\n",
       "      <td>COc1ccc(CNC(=O)C2=CC3=C(N=C4C=CC=CN4C3=O)N(CCc...</td>\n",
       "      <td>CHEMBL3436040</td>\n",
       "      <td>0.0</td>\n",
       "    </tr>\n",
       "    <tr>\n",
       "      <th>...</th>\n",
       "      <td>...</td>\n",
       "      <td>...</td>\n",
       "      <td>...</td>\n",
       "    </tr>\n",
       "    <tr>\n",
       "      <th>747438</th>\n",
       "      <td>2.11</td>\n",
       "      <td>CHEMBL3887886</td>\n",
       "      <td>1.0</td>\n",
       "    </tr>\n",
       "    <tr>\n",
       "      <th>747440</th>\n",
       "      <td>1.76</td>\n",
       "      <td>CHEMBL3887886</td>\n",
       "      <td>1.0</td>\n",
       "    </tr>\n",
       "    <tr>\n",
       "      <th>747446</th>\n",
       "      <td>9606</td>\n",
       "      <td>CHEMBL3887679</td>\n",
       "      <td>1.0</td>\n",
       "    </tr>\n",
       "    <tr>\n",
       "      <th>747457</th>\n",
       "      <td>S=P(N1CC1)(N2CC2)N3CC3</td>\n",
       "      <td>CHEMBL4017550</td>\n",
       "      <td>0.0</td>\n",
       "    </tr>\n",
       "    <tr>\n",
       "      <th>747458</th>\n",
       "      <td>CN(C)S(=O)(=O)c1ccc2Sc3ccccc3\\C(=C\\CCN4CCN(C)C...</td>\n",
       "      <td>CHEMBL4017550</td>\n",
       "      <td>0.0</td>\n",
       "    </tr>\n",
       "  </tbody>\n",
       "</table>\n",
       "<p>41874 rows × 3 columns</p>\n",
       "</div>"
      ],
      "text/plain": [
       "                                                   smiles         target  ic50\n",
       "422               COc1ccccc1CNC(=O)CCN2C(=O)Nc3ccccc3C2=O  CHEMBL3436040   0.0\n",
       "423            Cl.COc1ccc2nccc(C(O)C3CC4(CCN3CC4)C=C)c2c1  CHEMBL3436040   0.0\n",
       "424                   Cn1c(nc2ccccc12)C(=O)c3cccc4ccccc34  CHEMBL3436040   0.0\n",
       "425     Cl.CN1C(=O)N(C)c2cc(CNCCNc3ccnc4cc(Cl)ccc34)ccc12  CHEMBL3436040   0.0\n",
       "426     COc1ccc(CNC(=O)C2=CC3=C(N=C4C=CC=CN4C3=O)N(CCc...  CHEMBL3436040   0.0\n",
       "...                                                   ...            ...   ...\n",
       "747438                                               2.11  CHEMBL3887886   1.0\n",
       "747440                                               1.76  CHEMBL3887886   1.0\n",
       "747446                                               9606  CHEMBL3887679   1.0\n",
       "747457                             S=P(N1CC1)(N2CC2)N3CC3  CHEMBL4017550   0.0\n",
       "747458  CN(C)S(=O)(=O)c1ccc2Sc3ccccc3\\C(=C\\CCN4CCN(C)C...  CHEMBL4017550   0.0\n",
       "\n",
       "[41874 rows x 3 columns]"
      ]
     },
     "execution_count": 138,
     "metadata": {},
     "output_type": "execute_result"
    }
   ],
   "source": [
    "top_data"
   ]
  },
  {
   "cell_type": "markdown",
   "metadata": {},
   "source": [
    "## Featurize each Ligand\n",
    "<em>[<strong>10 points</strong>] Featurize each ligand using RDKit (https://www.rdkit.org). This will convert the ligand representation into a binary vector of features. Mention any hyper parameters you use. </em>"
   ]
  },
  {
   "cell_type": "code",
   "execution_count": 29,
   "metadata": {},
   "outputs": [
    {
     "data": {
      "text/plain": [
       "642238945326330184243511960511459756121538158463900031738306685721543095480181563842370415915020498621484389216520156789665255907561760877314504627983785345224510530982203948745928768285343914849143769498591294347704018099533347690698878446865852223064532994068362505580986268550853718698404951945864237778588613529625698880130622233508405448046132710196533569104259900120055199147982197378741089078374548214082741927069551926404401528222809714460643446585297432568682092812897200140622382063231931537022819668354666401768868637124017587586509907707644282145135292023208136353991281623508856407927884701177973198079831818686667142590821940832065616782338802208961207255529014445102513595295756048774118053782861356331365413396450423027265711394287825962510111334199469690009575728590050904716919710177188579831582539082896934937196112450846456416763315564130504271541160666706566933025407461013191564531996636132380078730023291309201473817559812668161383901575622939332895058474798234187322188879972122950311907776799309586106779494862679556026801283748798102819107853739729723130161444495642000184117731470539962911030369598314034023416455995676382710328607827497366286247265275163478879416722935328935386952408024560348910452896982078862586630192372828154676364874086461556365506065349700087664451004031002381031375765299615570863489435498316738922593174955608327102043013696729789766147796154631402203831136213504324155316730365611868822079159949340386289266998"
      ]
     },
     "execution_count": 29,
     "metadata": {},
     "output_type": "execute_result"
    }
   ],
   "source": [
    "# Import RDKit\n",
    "from rdkit import Chem\n",
    "import binascii\n",
    "\n",
    "smile = 'COc1cc(Cc2cnc(N)nc2N)cc(OC)c1OC'\n",
    "m = Chem.MolFromSmiles(smile)\n",
    "smile_bytes = m.ToBinary()\n",
    "smile_hex = binascii.b2a_hex(smile_bytes)\n",
    "smile_hex_string = smile_hex.hex()\n",
    "int(smile_hex_string, 16)"
   ]
  },
  {
   "cell_type": "code",
   "execution_count": 14,
   "metadata": {},
   "outputs": [],
   "source": [
    "from rdkit.Chem import ChemicalFeatures\n",
    "from rdkit import RDConfig\n",
    "import os\n",
    "\n",
    "fdefName = os.path.join(RDConfig.RDDataDir,'BaseFeatures.fdef')\n",
    "factory = ChemicalFeatures.BuildFeatureFactory(fdefName)"
   ]
  },
  {
   "cell_type": "code",
   "execution_count": 15,
   "metadata": {},
   "outputs": [
    {
     "data": {
      "text/plain": [
       "13"
      ]
     },
     "execution_count": 15,
     "metadata": {},
     "output_type": "execute_result"
    }
   ],
   "source": [
    "feats = factory.GetFeaturesForMol(m)\n",
    "len(feats)"
   ]
  },
  {
   "cell_type": "code",
   "execution_count": 16,
   "metadata": {},
   "outputs": [
    {
     "data": {
      "text/plain": [
       "(<rdkit.Chem.rdMolChemicalFeatures.MolChemicalFeature at 0x12edeb570>,\n",
       " <rdkit.Chem.rdMolChemicalFeatures.MolChemicalFeature at 0x12edeb690>,\n",
       " <rdkit.Chem.rdMolChemicalFeatures.MolChemicalFeature at 0x12edeb7b0>,\n",
       " <rdkit.Chem.rdMolChemicalFeatures.MolChemicalFeature at 0x12edeb8d0>,\n",
       " <rdkit.Chem.rdMolChemicalFeatures.MolChemicalFeature at 0x12edeb9f0>,\n",
       " <rdkit.Chem.rdMolChemicalFeatures.MolChemicalFeature at 0x12eddee70>,\n",
       " <rdkit.Chem.rdMolChemicalFeatures.MolChemicalFeature at 0x12edebbd0>,\n",
       " <rdkit.Chem.rdMolChemicalFeatures.MolChemicalFeature at 0x12edebcf0>,\n",
       " <rdkit.Chem.rdMolChemicalFeatures.MolChemicalFeature at 0x12edebe10>,\n",
       " <rdkit.Chem.rdMolChemicalFeatures.MolChemicalFeature at 0x12edebf30>,\n",
       " <rdkit.Chem.rdMolChemicalFeatures.MolChemicalFeature at 0x12edee090>,\n",
       " <rdkit.Chem.rdMolChemicalFeatures.MolChemicalFeature at 0x12edee1b0>,\n",
       " <rdkit.Chem.rdMolChemicalFeatures.MolChemicalFeature at 0x12edee2d0>)"
      ]
     },
     "execution_count": 16,
     "metadata": {},
     "output_type": "execute_result"
    }
   ],
   "source": [
    "feats"
   ]
  },
  {
   "cell_type": "markdown",
   "metadata": {},
   "source": [
    "## Train a multi-task model\n",
    "\n",
    "<em>[<strong>20 points</strong>] Train a multi-task model (one model for each target). Use an 80/20 split for each target.</em>"
   ]
  },
  {
   "cell_type": "code",
   "execution_count": 139,
   "metadata": {},
   "outputs": [],
   "source": [
    "tasks = dict()\n",
    "\n",
    "for target in top_targets:\n",
    "    target_rows = top_data.loc[top_data['target'] == target]\n",
    "    tasks[target] = Bunch(data   = target_rows.smiles,\n",
    "                          labels = target_rows.ic50)"
   ]
  },
  {
   "cell_type": "code",
   "execution_count": 140,
   "metadata": {},
   "outputs": [
    {
     "data": {
      "text/plain": [
       "{'data': 26995              COc1ccc(cc1OC)c2ncc3ccccn23.OC(=O)C(=O)O\n",
       " 26997        COc1cccc(c1)c2nnc(SCC(=O)c3ccc(O)c(O)c3)n2CC=C\n",
       " 27001                  COc1ccc(cc1OC)c2c[nH]nc2c3ccc(O)cc3O\n",
       " 27003                                 COc1cc(N)c2ncccc2c1SC\n",
       " 27672     COc1cc(\\C=C\\C(=O)OCC(=O)N2CC3(C)CC2CC(C)(C)C3)...\n",
       "                                 ...                        \n",
       " 710330    CC1=CN([C@H]2C[C@H](O)[C@@H](CNCC3=Cc4cc(O)ccc...\n",
       " 710383    COc1cc(\\C=C\\C(=O)OCC(=O)NC2=C(C)N(C)N(C2=O)c3c...\n",
       " 710385    COc1cc(\\C=C\\C(=O)OCC(=O)N2CCC(Cc3ccccc3)CC2)ccc1O\n",
       " 710395                           COc1cccc(OC)c1OCCCCN2CCCC2\n",
       " 710396                   COc1ccc2NC(C)(C)C3=C(C(=S)SS3)c2c1\n",
       " Name: smiles, Length: 2026, dtype: object, 'labels': 26995     0.0\n",
       " 26997     0.0\n",
       " 27001     0.0\n",
       " 27003     0.0\n",
       " 27672     0.0\n",
       "          ... \n",
       " 710330    0.0\n",
       " 710383    0.0\n",
       " 710385    0.0\n",
       " 710395    0.0\n",
       " 710396    0.0\n",
       " Name: ic50, Length: 2026, dtype: float64}"
      ]
     },
     "execution_count": 140,
     "metadata": {},
     "output_type": "execute_result"
    }
   ],
   "source": [
    "tasks['CHEMBL2114881']"
   ]
  },
  {
   "cell_type": "markdown",
   "metadata": {},
   "source": [
    "## Report the results\n",
    "\n",
    "<em>[<strong>20 points</strong>] Report the results using AUC, BEDROC, and Enrichment factor. These metrics are easily calculated using the RDKit scoring library. Discuss the results (you will need to look up each evaluation metric to interpret the result). You may be interested in page 6 of the following document: https://www.dropbox.com/s/6je37ml475vg3ep/Srinivas2018ImplictDescriptorUnderReview.pdf?dl=0 </em>\n"
   ]
  },
  {
   "cell_type": "code",
   "execution_count": 25,
   "metadata": {},
   "outputs": [],
   "source": [
    "# look at 4.2 in the document"
   ]
  },
  {
   "cell_type": "markdown",
   "metadata": {},
   "source": [
    "## Additional Analysis\n",
    "\n",
    "<em>[<strong>10 points</strong>] Finally, you have free reign to perform any other analysis. A suggested analysis is to add an additional mode of input data such as another fingerprint for each ligand.</em>"
   ]
  },
  {
   "cell_type": "code",
   "execution_count": null,
   "metadata": {},
   "outputs": [],
   "source": []
  }
 ],
 "metadata": {
  "kernelspec": {
   "display_name": "Python 3",
   "language": "python",
   "name": "python3"
  },
  "language_info": {
   "codemirror_mode": {
    "name": "ipython",
    "version": 3
   },
   "file_extension": ".py",
   "mimetype": "text/x-python",
   "name": "python",
   "nbconvert_exporter": "python",
   "pygments_lexer": "ipython3",
   "version": "3.7.6"
  }
 },
 "nbformat": 4,
 "nbformat_minor": 4
}
